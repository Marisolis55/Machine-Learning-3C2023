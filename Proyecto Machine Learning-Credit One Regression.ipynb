{
 "cells": [
  {
   "cell_type": "markdown",
   "id": "2860d052",
   "metadata": {},
   "source": [
    "<img src=\"banco1.jpg\" alt=\"banco1\">\n",
    "\n",
    "<h1 style = 'color:#14668a; text-align: center'>Universidad Castro Carazo</h1>\n",
    "<h3 style = 'color:#14668a; text-align: center'>Curso: Machine Learning</h3>\n",
    "<h3 style = 'color:#159a93; text-align: center'>Estudiante: Mariana Solis Roldan</h3>\n",
    "<h2 style = 'color:#7de0b9; text-align: center'>Proyecto Final</h2>"
   ]
  },
  {
   "cell_type": "code",
   "execution_count": 1,
   "id": "51224aeb",
   "metadata": {},
   "outputs": [],
   "source": [
    "import numpy as np\n",
    "import pandas as pd\n",
    "import scipy\n",
    "from math import sqrt\n",
    "import matplotlib.pyplot as plt"
   ]
  },
  {
   "cell_type": "code",
   "execution_count": 2,
   "id": "12e8b358",
   "metadata": {},
   "outputs": [],
   "source": [
    "#estimators\n",
    "from sklearn.ensemble import RandomForestRegressor \n",
    "from sklearn.linear_model import LinearRegression \n",
    "from sklearn.svm import SVR\n",
    "from sklearn import linear_model\n",
    "#model metrics\n",
    "from sklearn.metrics import mean_squared_error \n",
    "from sklearn.metrics import r2_score\n",
    "from sklearn.model_selection import cross_val_score\n",
    "#cross validation\n",
    "from sklearn.model_selection import cross_val_score\n",
    "from sklearn.model_selection import train_test_split"
   ]
  },
  {
   "cell_type": "markdown",
   "id": "536b4bba",
   "metadata": {},
   "source": [
    "<h2 style=\"color: #f99200\">Seleccionando y dividendo la Data</h2>"
   ]
  },
  {
   "cell_type": "code",
   "execution_count": 3,
   "id": "ffea5e5d",
   "metadata": {},
   "outputs": [
    {
     "data": {
      "text/html": [
       "<div>\n",
       "<style scoped>\n",
       "    .dataframe tbody tr th:only-of-type {\n",
       "        vertical-align: middle;\n",
       "    }\n",
       "\n",
       "    .dataframe tbody tr th {\n",
       "        vertical-align: top;\n",
       "    }\n",
       "\n",
       "    .dataframe thead th {\n",
       "        text-align: right;\n",
       "    }\n",
       "</style>\n",
       "<table border=\"1\" class=\"dataframe\">\n",
       "  <thead>\n",
       "    <tr style=\"text-align: right;\">\n",
       "      <th></th>\n",
       "      <th>Unnamed: 0</th>\n",
       "      <th>LIMIT_BAL</th>\n",
       "      <th>SEX</th>\n",
       "      <th>EDUCATION</th>\n",
       "      <th>MARRIAGE</th>\n",
       "      <th>AGE</th>\n",
       "      <th>PAY_0</th>\n",
       "      <th>PAY_2</th>\n",
       "      <th>PAY_3</th>\n",
       "      <th>PAY_4</th>\n",
       "      <th>...</th>\n",
       "      <th>PAY_AMT4</th>\n",
       "      <th>PAY_AMT5</th>\n",
       "      <th>PAY_AMT6</th>\n",
       "      <th>default payment next month(Y)</th>\n",
       "      <th>PAY 6</th>\n",
       "      <th>BILL AMTS</th>\n",
       "      <th>BILL AMT6</th>\n",
       "      <th>PAY AMT4</th>\n",
       "      <th>PAY AMTS</th>\n",
       "      <th>PAY AMT6</th>\n",
       "    </tr>\n",
       "  </thead>\n",
       "  <tbody>\n",
       "    <tr>\n",
       "      <th>0</th>\n",
       "      <td>0</td>\n",
       "      <td>20000</td>\n",
       "      <td>female</td>\n",
       "      <td>university</td>\n",
       "      <td>1</td>\n",
       "      <td>24</td>\n",
       "      <td>2</td>\n",
       "      <td>2</td>\n",
       "      <td>-1</td>\n",
       "      <td>-1</td>\n",
       "      <td>...</td>\n",
       "      <td>0</td>\n",
       "      <td>0</td>\n",
       "      <td>0</td>\n",
       "      <td>default</td>\n",
       "      <td>-2</td>\n",
       "      <td>0</td>\n",
       "      <td>0</td>\n",
       "      <td>0</td>\n",
       "      <td>0</td>\n",
       "      <td>0</td>\n",
       "    </tr>\n",
       "    <tr>\n",
       "      <th>1</th>\n",
       "      <td>1</td>\n",
       "      <td>120000</td>\n",
       "      <td>female</td>\n",
       "      <td>university</td>\n",
       "      <td>2</td>\n",
       "      <td>26</td>\n",
       "      <td>-1</td>\n",
       "      <td>2</td>\n",
       "      <td>0</td>\n",
       "      <td>0</td>\n",
       "      <td>...</td>\n",
       "      <td>1000</td>\n",
       "      <td>0</td>\n",
       "      <td>2000</td>\n",
       "      <td>default</td>\n",
       "      <td>2</td>\n",
       "      <td>3455</td>\n",
       "      <td>3261</td>\n",
       "      <td>1000</td>\n",
       "      <td>0</td>\n",
       "      <td>2000</td>\n",
       "    </tr>\n",
       "    <tr>\n",
       "      <th>2</th>\n",
       "      <td>2</td>\n",
       "      <td>90000</td>\n",
       "      <td>female</td>\n",
       "      <td>university</td>\n",
       "      <td>2</td>\n",
       "      <td>34</td>\n",
       "      <td>0</td>\n",
       "      <td>0</td>\n",
       "      <td>0</td>\n",
       "      <td>0</td>\n",
       "      <td>...</td>\n",
       "      <td>1000</td>\n",
       "      <td>1000</td>\n",
       "      <td>5000</td>\n",
       "      <td>not default</td>\n",
       "      <td>0</td>\n",
       "      <td>14948</td>\n",
       "      <td>15549</td>\n",
       "      <td>1000</td>\n",
       "      <td>1000</td>\n",
       "      <td>5000</td>\n",
       "    </tr>\n",
       "  </tbody>\n",
       "</table>\n",
       "<p>3 rows × 31 columns</p>\n",
       "</div>"
      ],
      "text/plain": [
       "   Unnamed: 0  LIMIT_BAL     SEX   EDUCATION  MARRIAGE  AGE  PAY_0  PAY_2  \\\n",
       "0           0      20000  female  university         1   24      2      2   \n",
       "1           1     120000  female  university         2   26     -1      2   \n",
       "2           2      90000  female  university         2   34      0      0   \n",
       "\n",
       "   PAY_3  PAY_4  ...  PAY_AMT4  PAY_AMT5  PAY_AMT6  \\\n",
       "0     -1     -1  ...         0         0         0   \n",
       "1      0      0  ...      1000         0      2000   \n",
       "2      0      0  ...      1000      1000      5000   \n",
       "\n",
       "   default payment next month(Y)  PAY 6  BILL AMTS  BILL AMT6  PAY AMT4  \\\n",
       "0                        default     -2          0          0         0   \n",
       "1                        default      2       3455       3261      1000   \n",
       "2                    not default      0      14948      15549      1000   \n",
       "\n",
       "   PAY AMTS  PAY AMT6  \n",
       "0         0         0  \n",
       "1         0      2000  \n",
       "2      1000      5000  \n",
       "\n",
       "[3 rows x 31 columns]"
      ]
     },
     "execution_count": 3,
     "metadata": {},
     "output_type": "execute_result"
    }
   ],
   "source": [
    "rawData = pd.read_excel(\"credit.xlsx\")\n",
    "rawData.head(3)"
   ]
  },
  {
   "cell_type": "code",
   "execution_count": 4,
   "id": "8f102db5",
   "metadata": {},
   "outputs": [
    {
     "data": {
      "text/html": [
       "<div>\n",
       "<style scoped>\n",
       "    .dataframe tbody tr th:only-of-type {\n",
       "        vertical-align: middle;\n",
       "    }\n",
       "\n",
       "    .dataframe tbody tr th {\n",
       "        vertical-align: top;\n",
       "    }\n",
       "\n",
       "    .dataframe thead th {\n",
       "        text-align: right;\n",
       "    }\n",
       "</style>\n",
       "<table border=\"1\" class=\"dataframe\">\n",
       "  <thead>\n",
       "    <tr style=\"text-align: right;\">\n",
       "      <th></th>\n",
       "      <th>LIMIT_BAL</th>\n",
       "      <th>SEX</th>\n",
       "      <th>EDUCATION</th>\n",
       "      <th>MARRIAGE</th>\n",
       "      <th>AGE</th>\n",
       "      <th>PAY_0</th>\n",
       "      <th>PAY_2</th>\n",
       "      <th>PAY_3</th>\n",
       "      <th>PAY_4</th>\n",
       "      <th>PAY_5</th>\n",
       "      <th>...</th>\n",
       "      <th>PAY_AMT4</th>\n",
       "      <th>PAY_AMT5</th>\n",
       "      <th>PAY_AMT6</th>\n",
       "      <th>default payment next month(Y)</th>\n",
       "      <th>PAY 6</th>\n",
       "      <th>BILL AMTS</th>\n",
       "      <th>BILL AMT6</th>\n",
       "      <th>PAY AMT4</th>\n",
       "      <th>PAY AMTS</th>\n",
       "      <th>PAY AMT6</th>\n",
       "    </tr>\n",
       "  </thead>\n",
       "  <tbody>\n",
       "    <tr>\n",
       "      <th>0</th>\n",
       "      <td>20000</td>\n",
       "      <td>female</td>\n",
       "      <td>university</td>\n",
       "      <td>1</td>\n",
       "      <td>24</td>\n",
       "      <td>2</td>\n",
       "      <td>2</td>\n",
       "      <td>-1</td>\n",
       "      <td>-1</td>\n",
       "      <td>-2</td>\n",
       "      <td>...</td>\n",
       "      <td>0</td>\n",
       "      <td>0</td>\n",
       "      <td>0</td>\n",
       "      <td>default</td>\n",
       "      <td>-2</td>\n",
       "      <td>0</td>\n",
       "      <td>0</td>\n",
       "      <td>0</td>\n",
       "      <td>0</td>\n",
       "      <td>0</td>\n",
       "    </tr>\n",
       "    <tr>\n",
       "      <th>1</th>\n",
       "      <td>120000</td>\n",
       "      <td>female</td>\n",
       "      <td>university</td>\n",
       "      <td>2</td>\n",
       "      <td>26</td>\n",
       "      <td>-1</td>\n",
       "      <td>2</td>\n",
       "      <td>0</td>\n",
       "      <td>0</td>\n",
       "      <td>0</td>\n",
       "      <td>...</td>\n",
       "      <td>1000</td>\n",
       "      <td>0</td>\n",
       "      <td>2000</td>\n",
       "      <td>default</td>\n",
       "      <td>2</td>\n",
       "      <td>3455</td>\n",
       "      <td>3261</td>\n",
       "      <td>1000</td>\n",
       "      <td>0</td>\n",
       "      <td>2000</td>\n",
       "    </tr>\n",
       "    <tr>\n",
       "      <th>2</th>\n",
       "      <td>90000</td>\n",
       "      <td>female</td>\n",
       "      <td>university</td>\n",
       "      <td>2</td>\n",
       "      <td>34</td>\n",
       "      <td>0</td>\n",
       "      <td>0</td>\n",
       "      <td>0</td>\n",
       "      <td>0</td>\n",
       "      <td>0</td>\n",
       "      <td>...</td>\n",
       "      <td>1000</td>\n",
       "      <td>1000</td>\n",
       "      <td>5000</td>\n",
       "      <td>not default</td>\n",
       "      <td>0</td>\n",
       "      <td>14948</td>\n",
       "      <td>15549</td>\n",
       "      <td>1000</td>\n",
       "      <td>1000</td>\n",
       "      <td>5000</td>\n",
       "    </tr>\n",
       "    <tr>\n",
       "      <th>3</th>\n",
       "      <td>50000</td>\n",
       "      <td>female</td>\n",
       "      <td>university</td>\n",
       "      <td>1</td>\n",
       "      <td>37</td>\n",
       "      <td>0</td>\n",
       "      <td>0</td>\n",
       "      <td>0</td>\n",
       "      <td>0</td>\n",
       "      <td>0</td>\n",
       "      <td>...</td>\n",
       "      <td>1100</td>\n",
       "      <td>1069</td>\n",
       "      <td>1000</td>\n",
       "      <td>not default</td>\n",
       "      <td>0</td>\n",
       "      <td>28959</td>\n",
       "      <td>29547</td>\n",
       "      <td>1100</td>\n",
       "      <td>1069</td>\n",
       "      <td>1000</td>\n",
       "    </tr>\n",
       "    <tr>\n",
       "      <th>4</th>\n",
       "      <td>50000</td>\n",
       "      <td>male</td>\n",
       "      <td>university</td>\n",
       "      <td>1</td>\n",
       "      <td>57</td>\n",
       "      <td>-1</td>\n",
       "      <td>0</td>\n",
       "      <td>-1</td>\n",
       "      <td>0</td>\n",
       "      <td>0</td>\n",
       "      <td>...</td>\n",
       "      <td>9000</td>\n",
       "      <td>689</td>\n",
       "      <td>679</td>\n",
       "      <td>not default</td>\n",
       "      <td>0</td>\n",
       "      <td>19146</td>\n",
       "      <td>19131</td>\n",
       "      <td>9000</td>\n",
       "      <td>689</td>\n",
       "      <td>679</td>\n",
       "    </tr>\n",
       "  </tbody>\n",
       "</table>\n",
       "<p>5 rows × 30 columns</p>\n",
       "</div>"
      ],
      "text/plain": [
       "   LIMIT_BAL     SEX   EDUCATION  MARRIAGE  AGE  PAY_0  PAY_2  PAY_3  PAY_4  \\\n",
       "0      20000  female  university         1   24      2      2     -1     -1   \n",
       "1     120000  female  university         2   26     -1      2      0      0   \n",
       "2      90000  female  university         2   34      0      0      0      0   \n",
       "3      50000  female  university         1   37      0      0      0      0   \n",
       "4      50000    male  university         1   57     -1      0     -1      0   \n",
       "\n",
       "   PAY_5  ...  PAY_AMT4  PAY_AMT5  PAY_AMT6  default payment next month(Y)  \\\n",
       "0     -2  ...         0         0         0                        default   \n",
       "1      0  ...      1000         0      2000                        default   \n",
       "2      0  ...      1000      1000      5000                    not default   \n",
       "3      0  ...      1100      1069      1000                    not default   \n",
       "4      0  ...      9000       689       679                    not default   \n",
       "\n",
       "   PAY 6  BILL AMTS  BILL AMT6  PAY AMT4  PAY AMTS  PAY AMT6  \n",
       "0     -2          0          0         0         0         0  \n",
       "1      2       3455       3261      1000         0      2000  \n",
       "2      0      14948      15549      1000      1000      5000  \n",
       "3      0      28959      29547      1100      1069      1000  \n",
       "4      0      19146      19131      9000       689       679  \n",
       "\n",
       "[5 rows x 30 columns]"
      ]
     },
     "execution_count": 4,
     "metadata": {},
     "output_type": "execute_result"
    }
   ],
   "source": [
    "rawData.drop(['Unnamed: 0'],axis=1,inplace=True)\n",
    "rawData.head(5)"
   ]
  },
  {
   "cell_type": "code",
   "execution_count": 5,
   "id": "62421037",
   "metadata": {},
   "outputs": [
    {
     "name": "stdout",
     "output_type": "stream",
     "text": [
      "<class 'pandas.core.frame.DataFrame'>\n",
      "RangeIndex: 2396 entries, 0 to 2395\n",
      "Data columns (total 30 columns):\n",
      " #   Column                         Non-Null Count  Dtype \n",
      "---  ------                         --------------  ----- \n",
      " 0   LIMIT_BAL                      2396 non-null   int64 \n",
      " 1   SEX                            2396 non-null   object\n",
      " 2   EDUCATION                      2396 non-null   object\n",
      " 3   MARRIAGE                       2396 non-null   int64 \n",
      " 4   AGE                            2396 non-null   int64 \n",
      " 5   PAY_0                          2396 non-null   int64 \n",
      " 6   PAY_2                          2396 non-null   int64 \n",
      " 7   PAY_3                          2396 non-null   int64 \n",
      " 8   PAY_4                          2396 non-null   int64 \n",
      " 9   PAY_5                          2396 non-null   int64 \n",
      " 10  PAY_6                          2396 non-null   int64 \n",
      " 11  BILL_AMT1                      2396 non-null   int64 \n",
      " 12  BILL_AMT2                      2396 non-null   int64 \n",
      " 13  BILL_AMT3                      2396 non-null   int64 \n",
      " 14  BILL_AMT4                      2396 non-null   int64 \n",
      " 15  BILL_AMT5                      2396 non-null   int64 \n",
      " 16  BILL_AMT6                      2396 non-null   int64 \n",
      " 17  PAY_AMT1                       2396 non-null   int64 \n",
      " 18  PAY_AMT2                       2396 non-null   int64 \n",
      " 19  PAY_AMT3                       2396 non-null   int64 \n",
      " 20  PAY_AMT4                       2396 non-null   int64 \n",
      " 21  PAY_AMT5                       2396 non-null   int64 \n",
      " 22  PAY_AMT6                       2396 non-null   int64 \n",
      " 23  default payment next month(Y)  2396 non-null   object\n",
      " 24  PAY 6                          2396 non-null   int64 \n",
      " 25  BILL AMTS                      2396 non-null   int64 \n",
      " 26  BILL AMT6                      2396 non-null   int64 \n",
      " 27  PAY AMT4                       2396 non-null   int64 \n",
      " 28  PAY AMTS                       2396 non-null   int64 \n",
      " 29  PAY AMT6                       2396 non-null   int64 \n",
      "dtypes: int64(27), object(3)\n",
      "memory usage: 561.7+ KB\n"
     ]
    }
   ],
   "source": [
    "rawData.info()"
   ]
  },
  {
   "cell_type": "code",
   "execution_count": 39,
   "id": "8ab3ccf3",
   "metadata": {},
   "outputs": [
    {
     "name": "stdout",
     "output_type": "stream",
     "text": [
      "Summary of feature sample\n",
      "   LIMIT_BAL  SEX  EDUCATION  MARRIAGE  AGE  PAY_0  PAY_2  PAY_3  PAY_4  \\\n",
      "0      20000    0          3         1   24      2      2     -1     -1   \n",
      "1     120000    0          3         2   26     -1      2      0      0   \n",
      "2      90000    0          3         2   34      0      0      0      0   \n",
      "3      50000    0          3         1   37      0      0      0      0   \n",
      "4      50000    1          3         1   57     -1      0     -1      0   \n",
      "\n",
      "   PAY_5  ...  BILL_AMT3  BILL_AMT4  BILL_AMT5  BILL_AMT6  PAY_AMT1  PAY_AMT2  \\\n",
      "0     -2  ...        689          0          0          0         0       689   \n",
      "1      0  ...       2682       3272       3455       3261         0      1000   \n",
      "2      0  ...      13559      14331      14948      15549      1518      1500   \n",
      "3      0  ...      49291      28314      28959      29547      2000      2019   \n",
      "4      0  ...      35835      20940      19146      19131      2000     36681   \n",
      "\n",
      "   PAY_AMT3  PAY_AMT4  PAY_AMT5  PAY_AMT6  \n",
      "0         0         0         0         0  \n",
      "1      1000      1000         0      2000  \n",
      "2      1000      1000      1000      5000  \n",
      "3      1200      1100      1069      1000  \n",
      "4     10000      9000       689       679  \n",
      "\n",
      "[5 rows x 23 columns]\n"
     ]
    }
   ],
   "source": [
    "selected_features = ['LIMIT_BAL', 'SEX', 'EDUCATION', 'MARRIAGE', 'AGE', 'PAY_0', 'PAY_2', 'PAY_3', \n",
    "                    'PAY_4', 'PAY_5', 'PAY_6','BILL_AMT1', 'BILL_AMT2', 'BILL_AMT3', 'BILL_AMT4', 'BILL_AMT5', \n",
    "                    'BILL_AMT6', 'PAY_AMT1', 'PAY_AMT2', 'PAY_AMT3', 'PAY_AMT4', \n",
    "                    'PAY_AMT5', 'PAY_AMT6'] \n",
    "\n",
    "X = rawData[selected_features]\n",
    "print('Summary of feature sample')\n",
    "print(X.head())"
   ]
  },
  {
   "cell_type": "code",
   "execution_count": 7,
   "id": "03656476",
   "metadata": {},
   "outputs": [],
   "source": [
    "y = rawData['default payment next month(Y)']  "
   ]
  },
  {
   "cell_type": "markdown",
   "id": "2d53ba44",
   "metadata": {},
   "source": [
    "<h3 style = 'color:#159a93'>Parámetros de ajuste y definición del modelo</h3>"
   ]
  },
  {
   "cell_type": "code",
   "execution_count": 8,
   "id": "b4fa39b6",
   "metadata": {},
   "outputs": [],
   "source": [
    "model = LinearRegression(n_jobs=10)"
   ]
  },
  {
   "cell_type": "code",
   "execution_count": 9,
   "id": "0d08625b",
   "metadata": {},
   "outputs": [],
   "source": [
    "from sklearn.preprocessing import LabelEncoder\n",
    "\n",
    "label_encoder = LabelEncoder()\n",
    "rawData['default payment next month(Y)'] = label_encoder.fit_transform(rawData['default payment next month(Y)'])\n",
    "rawData['EDUCATION'] = label_encoder.fit_transform(rawData['EDUCATION'])\n",
    "rawData['SEX'] = label_encoder.fit_transform(rawData['SEX'])\n",
    "\n",
    "# Definir las características y la variable dependiente\n",
    "X = rawData.drop('default payment next month(Y)', axis=1)\n",
    "y = rawData['default payment next month(Y)']\n",
    "\n",
    "# Inicializar el modelo de regresión lineal\n",
    "model = LinearRegression(n_jobs=10)"
   ]
  },
  {
   "cell_type": "markdown",
   "id": "25a68505",
   "metadata": {},
   "source": [
    "<h2 style=\"color: #f99200\">Construyendo los modelos y eligiendo el modelo correcto</h2>\n",
    "\n",
    "<h4 style = 'color:#14668a'>Validación cruzada y elección del modelo correcto</h4>"
   ]
  },
  {
   "cell_type": "code",
   "execution_count": 10,
   "id": "b82dd3a6",
   "metadata": {},
   "outputs": [
    {
     "name": "stdout",
     "output_type": "stream",
     "text": [
      "0       0\n",
      "1       0\n",
      "2       1\n",
      "3       1\n",
      "4       1\n",
      "       ..\n",
      "2391    0\n",
      "2392    1\n",
      "2393    1\n",
      "2394    1\n",
      "2395    1\n",
      "Name: default payment next month(Y), Length: 2396, dtype: int32\n"
     ]
    }
   ],
   "source": [
    "print(y)"
   ]
  },
  {
   "cell_type": "code",
   "execution_count": 11,
   "id": "4875a45a",
   "metadata": {},
   "outputs": [
    {
     "name": "stdout",
     "output_type": "stream",
     "text": [
      "[0.06500354 0.05878229 0.08776774]\n"
     ]
    }
   ],
   "source": [
    "print(cross_val_score(model, X, y, cv=3))"
   ]
  },
  {
   "cell_type": "markdown",
   "id": "8096e821",
   "metadata": {},
   "source": [
    "<h4 style = 'color:#14668a'>Formato de modelado</h4>"
   ]
  },
  {
   "cell_type": "code",
   "execution_count": 12,
   "id": "a65ac75d",
   "metadata": {},
   "outputs": [],
   "source": [
    "modelos = []\n",
    "modelos.append(('Random Forest Regressor', RandomForestRegressor()))\n",
    "modelos.append(('Linear Regression', LinearRegression()))\n",
    "modelos.append(('Support Vector Regression', SVR()))"
   ]
  },
  {
   "cell_type": "code",
   "execution_count": 13,
   "id": "023d02d6",
   "metadata": {},
   "outputs": [],
   "source": [
    "X_train, X_test, y_train, y_test = train_test_split(X, y, test_size=0.2, random_state=42)"
   ]
  },
  {
   "cell_type": "code",
   "execution_count": 14,
   "id": "5cff48e9",
   "metadata": {},
   "outputs": [],
   "source": [
    "results = []\n",
    "names = []\n",
    "for name, model in modelos:\n",
    "    result = cross_val_score(model, X_train, y_train, cv=3, scoring='r2')\n",
    "    names.append(name)\n",
    "    results.append(result)"
   ]
  },
  {
   "cell_type": "code",
   "execution_count": 15,
   "id": "d971e274",
   "metadata": {},
   "outputs": [
    {
     "name": "stdout",
     "output_type": "stream",
     "text": [
      "Random Forest Regressor R-squared: 0.0919 (+/- 0.0157)\n",
      "Linear Regression R-squared: 0.0721 (+/- 0.0298)\n",
      "Support Vector Regression R-squared: -0.0789 (+/- 0.0196)\n"
     ]
    }
   ],
   "source": [
    "for i in range(len(names)):\n",
    "     print(f\"{names[i]} R-squared: {results[i].mean():.4f} (+/- {results[i].std():.4f})\")"
   ]
  },
  {
   "cell_type": "code",
   "execution_count": 16,
   "id": "d45e40a8",
   "metadata": {},
   "outputs": [],
   "source": [
    "selected_model = LinearRegression()\n",
    "model = selected_model.fit(X_train, y_train)"
   ]
  },
  {
   "cell_type": "markdown",
   "id": "ed2c386f",
   "metadata": {},
   "source": [
    "<h2 style=\"color: #f99200\">Hacer predicciones y evaluar los resultados</h2>\n",
    "\n",
    "<h4 style = 'color:#14668a'>Haciendo predicciones</h4>"
   ]
  },
  {
   "cell_type": "code",
   "execution_count": 17,
   "id": "8d758abf",
   "metadata": {},
   "outputs": [],
   "source": [
    "predictions=model.predict(X_test)"
   ]
  },
  {
   "cell_type": "markdown",
   "id": "316bb86c",
   "metadata": {},
   "source": [
    "<h4 style = 'color:#14668a'>Evaluación de los resultados</h4>"
   ]
  },
  {
   "cell_type": "code",
   "execution_count": 18,
   "id": "8ff24d8b",
   "metadata": {},
   "outputs": [],
   "source": [
    "from math import sqrt"
   ]
  },
  {
   "cell_type": "code",
   "execution_count": 19,
   "id": "09354350",
   "metadata": {},
   "outputs": [],
   "source": [
    "rmse=sqrt(mean_squared_error(y_test, predictions))\n",
    "predRsquared=r2_score(y_test,predictions)"
   ]
  },
  {
   "cell_type": "code",
   "execution_count": 20,
   "id": "e78872ef",
   "metadata": {},
   "outputs": [
    {
     "name": "stdout",
     "output_type": "stream",
     "text": [
      "R Squared: 0.065\n",
      "RMSE: 0.398\n"
     ]
    }
   ],
   "source": [
    "predictions = model.predict (X_test)\n",
    "predRsquared = r2_score (y_test, predictions)\n",
    "rmse =sqrt (mean_squared_error(y_test, predictions))\n",
    "print('R Squared: %.3f' % predRsquared) \n",
    "print('RMSE: %.3f' % rmse)"
   ]
  },
  {
   "cell_type": "code",
   "execution_count": 21,
   "id": "cec71b48",
   "metadata": {},
   "outputs": [
    {
     "data": {
      "image/png": "[encoded data removed]",
      "text/plain": [
       "<Figure size 640x480 with 1 Axes>"
      ]
     },
     "metadata": {},
     "output_type": "display_data"
    }
   ],
   "source": [
    "plt.scatter(y_test, predictions, alpha=0.5)\n",
    "plt.xlabel('Ground Truth')\n",
    "plt.ylabel('Predictions')\n",
    "plt.show()"
   ]
  }
 ],
 "metadata": {
  "kernelspec": {
   "display_name": "Python 3 (ipykernel)",
   "language": "python",
   "name": "python3"
  },
  "language_info": {
   "codemirror_mode": {
    "name": "ipython",
    "version": 3
   },
   "file_extension": ".py",
   "mimetype": "text/x-python",
   "name": "python",
   "nbconvert_exporter": "python",
   "pygments_lexer": "ipython3",
   "version": "3.11.5"
  }
 },
 "nbformat": 4,
 "nbformat_minor": 5
}
